{
 "cells": [
  {
   "cell_type": "code",
   "execution_count": 1,
   "id": "bf03063e",
   "metadata": {},
   "outputs": [],
   "source": [
    "import time\n",
    "from selenium import webdriver\n",
    "from webdriver_manager.chrome import ChromeDriverManager\n",
    "from selenium.webdriver.common.by import By\n",
    "\n",
    "driver = webdriver.Chrome(ChromeDriverManager().install())\n",
    "driver.get(\"https://x.com\")\n",
    "\n",
    "#all_buttons = driver.find_elements(By.XPATH, \"//button[@data-testid='UserCell']\")\n",
    "#all_buttons[0].click()"
   ]
  },
  {
   "cell_type": "code",
   "execution_count": 2,
   "id": "79a33d0c",
   "metadata": {},
   "outputs": [],
   "source": [
    "all_buttons = driver.find_elements(By.XPATH, \"//button[@data-testid='UserCell']\")\n",
    "all_buttons[0].click()"
   ]
  },
  {
   "cell_type": "code",
   "execution_count": 3,
   "id": "ae1bb9c0",
   "metadata": {},
   "outputs": [],
   "source": [
    "all_buttons = driver.find_elements(By.XPATH, \"//button[@data-testid='userActions']\")\n",
    "all_buttons[0].click()"
   ]
  },
  {
   "cell_type": "code",
   "execution_count": 6,
   "id": "6af37fa2",
   "metadata": {},
   "outputs": [],
   "source": [
    "menu_items = driver.find_elements(By.XPATH, \"//div[@role='menuitem']\")\n",
    "menu_items[-3].click()"
   ]
  },
  {
   "cell_type": "code",
   "execution_count": 8,
   "id": "251dbd5b",
   "metadata": {},
   "outputs": [],
   "source": [
    "confirm = driver.find_element(By.XPATH, \"//button[@data-testid='confirmationSheetConfirm']\")\n",
    "confirm.click()"
   ]
  },
  {
   "cell_type": "code",
   "execution_count": 13,
   "id": "871588a3",
   "metadata": {},
   "outputs": [],
   "source": [
    "back = driver.find_element(By.XPATH, \"//button[@data-testid='app-bar-back']\")\n",
    "back.click()"
   ]
  },
  {
   "cell_type": "code",
   "execution_count": null,
   "id": "ba948835",
   "metadata": {},
   "outputs": [],
   "source": [
    "driver.get(\"https://x.com/sgouldor/verified_followers\")"
   ]
  },
  {
   "cell_type": "code",
   "execution_count": 37,
   "id": "4f7ec662",
   "metadata": {},
   "outputs": [
    {
     "ename": "NoSuchElementException",
     "evalue": "Message: no such element: Unable to locate element: {\"method\":\"xpath\",\"selector\":\"//button[@data-testid='confirmationSheetConfirm']\"}\n  (Session info: chrome=128.0.6613.120)\n",
     "output_type": "error",
     "traceback": [
      "\u001b[1;31m---------------------------------------------------------------------------\u001b[0m",
      "\u001b[1;31mNoSuchElementException\u001b[0m                    Traceback (most recent call last)",
      "Cell \u001b[1;32mIn[37], line 23\u001b[0m\n\u001b[0;32m     19\u001b[0m menu_items[\u001b[38;5;241m-\u001b[39m\u001b[38;5;241m3\u001b[39m]\u001b[38;5;241m.\u001b[39mclick()\n\u001b[0;32m     21\u001b[0m time\u001b[38;5;241m.\u001b[39msleep(\u001b[38;5;241m1.5\u001b[39m)\n\u001b[1;32m---> 23\u001b[0m confirm \u001b[38;5;241m=\u001b[39m \u001b[43mdriver\u001b[49m\u001b[38;5;241;43m.\u001b[39;49m\u001b[43mfind_element\u001b[49m\u001b[43m(\u001b[49m\u001b[43mBy\u001b[49m\u001b[38;5;241;43m.\u001b[39;49m\u001b[43mXPATH\u001b[49m\u001b[43m,\u001b[49m\u001b[43m \u001b[49m\u001b[38;5;124;43m\"\u001b[39;49m\u001b[38;5;124;43m//button[@data-testid=\u001b[39;49m\u001b[38;5;124;43m'\u001b[39;49m\u001b[38;5;124;43mconfirmationSheetConfirm\u001b[39;49m\u001b[38;5;124;43m'\u001b[39;49m\u001b[38;5;124;43m]\u001b[39;49m\u001b[38;5;124;43m\"\u001b[39;49m\u001b[43m)\u001b[49m\n\u001b[0;32m     24\u001b[0m confirm\u001b[38;5;241m.\u001b[39mclick()\n\u001b[0;32m     26\u001b[0m time\u001b[38;5;241m.\u001b[39msleep(\u001b[38;5;241m1.5\u001b[39m)\n",
      "File \u001b[1;32m~\\anaconda3\\envs\\myenv\\lib\\site-packages\\selenium\\webdriver\\remote\\webdriver.py:976\u001b[0m, in \u001b[0;36mWebDriver.find_element\u001b[1;34m(self, by, value)\u001b[0m\n\u001b[0;32m    974\u001b[0m         by \u001b[38;5;241m=\u001b[39m By\u001b[38;5;241m.\u001b[39mCSS_SELECTOR\n\u001b[0;32m    975\u001b[0m         value \u001b[38;5;241m=\u001b[39m \u001b[38;5;124m'\u001b[39m\u001b[38;5;124m[name=\u001b[39m\u001b[38;5;124m\"\u001b[39m\u001b[38;5;132;01m%s\u001b[39;00m\u001b[38;5;124m\"\u001b[39m\u001b[38;5;124m]\u001b[39m\u001b[38;5;124m'\u001b[39m \u001b[38;5;241m%\u001b[39m value\n\u001b[1;32m--> 976\u001b[0m \u001b[38;5;28;01mreturn\u001b[39;00m \u001b[38;5;28;43mself\u001b[39;49m\u001b[38;5;241;43m.\u001b[39;49m\u001b[43mexecute\u001b[49m\u001b[43m(\u001b[49m\u001b[43mCommand\u001b[49m\u001b[38;5;241;43m.\u001b[39;49m\u001b[43mFIND_ELEMENT\u001b[49m\u001b[43m,\u001b[49m\u001b[43m \u001b[49m\u001b[43m{\u001b[49m\n\u001b[0;32m    977\u001b[0m \u001b[43m    \u001b[49m\u001b[38;5;124;43m'\u001b[39;49m\u001b[38;5;124;43musing\u001b[39;49m\u001b[38;5;124;43m'\u001b[39;49m\u001b[43m:\u001b[49m\u001b[43m \u001b[49m\u001b[43mby\u001b[49m\u001b[43m,\u001b[49m\n\u001b[0;32m    978\u001b[0m \u001b[43m    \u001b[49m\u001b[38;5;124;43m'\u001b[39;49m\u001b[38;5;124;43mvalue\u001b[39;49m\u001b[38;5;124;43m'\u001b[39;49m\u001b[43m:\u001b[49m\u001b[43m \u001b[49m\u001b[43mvalue\u001b[49m\u001b[43m}\u001b[49m\u001b[43m)\u001b[49m[\u001b[38;5;124m'\u001b[39m\u001b[38;5;124mvalue\u001b[39m\u001b[38;5;124m'\u001b[39m]\n",
      "File \u001b[1;32m~\\anaconda3\\envs\\myenv\\lib\\site-packages\\selenium\\webdriver\\remote\\webdriver.py:321\u001b[0m, in \u001b[0;36mWebDriver.execute\u001b[1;34m(self, driver_command, params)\u001b[0m\n\u001b[0;32m    319\u001b[0m response \u001b[38;5;241m=\u001b[39m \u001b[38;5;28mself\u001b[39m\u001b[38;5;241m.\u001b[39mcommand_executor\u001b[38;5;241m.\u001b[39mexecute(driver_command, params)\n\u001b[0;32m    320\u001b[0m \u001b[38;5;28;01mif\u001b[39;00m response:\n\u001b[1;32m--> 321\u001b[0m     \u001b[38;5;28;43mself\u001b[39;49m\u001b[38;5;241;43m.\u001b[39;49m\u001b[43merror_handler\u001b[49m\u001b[38;5;241;43m.\u001b[39;49m\u001b[43mcheck_response\u001b[49m\u001b[43m(\u001b[49m\u001b[43mresponse\u001b[49m\u001b[43m)\u001b[49m\n\u001b[0;32m    322\u001b[0m     response[\u001b[38;5;124m'\u001b[39m\u001b[38;5;124mvalue\u001b[39m\u001b[38;5;124m'\u001b[39m] \u001b[38;5;241m=\u001b[39m \u001b[38;5;28mself\u001b[39m\u001b[38;5;241m.\u001b[39m_unwrap_value(\n\u001b[0;32m    323\u001b[0m         response\u001b[38;5;241m.\u001b[39mget(\u001b[38;5;124m'\u001b[39m\u001b[38;5;124mvalue\u001b[39m\u001b[38;5;124m'\u001b[39m, \u001b[38;5;28;01mNone\u001b[39;00m))\n\u001b[0;32m    324\u001b[0m     \u001b[38;5;28;01mreturn\u001b[39;00m response\n",
      "File \u001b[1;32m~\\anaconda3\\envs\\myenv\\lib\\site-packages\\selenium\\webdriver\\remote\\errorhandler.py:242\u001b[0m, in \u001b[0;36mErrorHandler.check_response\u001b[1;34m(self, response)\u001b[0m\n\u001b[0;32m    240\u001b[0m         alert_text \u001b[38;5;241m=\u001b[39m value[\u001b[38;5;124m'\u001b[39m\u001b[38;5;124malert\u001b[39m\u001b[38;5;124m'\u001b[39m]\u001b[38;5;241m.\u001b[39mget(\u001b[38;5;124m'\u001b[39m\u001b[38;5;124mtext\u001b[39m\u001b[38;5;124m'\u001b[39m)\n\u001b[0;32m    241\u001b[0m     \u001b[38;5;28;01mraise\u001b[39;00m exception_class(message, screen, stacktrace, alert_text)\n\u001b[1;32m--> 242\u001b[0m \u001b[38;5;28;01mraise\u001b[39;00m exception_class(message, screen, stacktrace)\n",
      "\u001b[1;31mNoSuchElementException\u001b[0m: Message: no such element: Unable to locate element: {\"method\":\"xpath\",\"selector\":\"//button[@data-testid='confirmationSheetConfirm']\"}\n  (Session info: chrome=128.0.6613.120)\n"
     ]
    }
   ],
   "source": [
    "import time\n",
    "from selenium import webdriver\n",
    "from webdriver_manager.chrome import ChromeDriverManager\n",
    "from selenium.webdriver.common.by import By\n",
    "\n",
    "for i in range(15):\n",
    "    \n",
    "    all_buttons = driver.find_elements(By.XPATH, \"//button[@data-testid='UserCell']\")\n",
    "    all_buttons[0].click()\n",
    "    \n",
    "    time.sleep(1.5)\n",
    "    \n",
    "    all_buttons = driver.find_elements(By.XPATH, \"//button[@data-testid='userActions']\")\n",
    "    all_buttons[0].click()\n",
    "    \n",
    "    time.sleep(1.5)\n",
    "    \n",
    "    menu_items = driver.find_elements(By.XPATH, \"//div[@role='menuitem']\")\n",
    "    menu_items[-3].click()\n",
    "    \n",
    "    time.sleep(1.5)\n",
    "    \n",
    "    confirm = driver.find_element(By.XPATH, \"//button[@data-testid='confirmationSheetConfirm']\")\n",
    "    confirm.click()\n",
    "    \n",
    "    time.sleep(1.5)\n",
    "    \n",
    "    back = driver.find_element(By.XPATH, \"//button[@data-testid='app-bar-back']\")\n",
    "    back.click()\n",
    "    \n",
    "    time.sleep(1.5)\n",
    "    \n",
    "    driver.get(\"https://x.com/sgouldor/followers\")\n",
    "    \n",
    "    time.sleep(4)\n",
    "    \n",
    "    "
   ]
  },
  {
   "cell_type": "code",
   "execution_count": null,
   "id": "a0d0826b",
   "metadata": {},
   "outputs": [],
   "source": []
  }
 ],
 "metadata": {
  "kernelspec": {
   "display_name": "Python 3 (ipykernel)",
   "language": "python",
   "name": "python3"
  },
  "language_info": {
   "codemirror_mode": {
    "name": "ipython",
    "version": 3
   },
   "file_extension": ".py",
   "mimetype": "text/x-python",
   "name": "python",
   "nbconvert_exporter": "python",
   "pygments_lexer": "ipython3",
   "version": "3.8.19"
  }
 },
 "nbformat": 4,
 "nbformat_minor": 5
}
